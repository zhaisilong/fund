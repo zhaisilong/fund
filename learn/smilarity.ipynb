{
 "cells": [
  {
   "cell_type": "markdown",
   "source": [
    "# 相似度分析"
   ],
   "metadata": {
    "collapsed": false
   }
  },
  {
   "cell_type": "code",
   "execution_count": null,
   "outputs": [],
   "source": [
    "# Initiate feature extraction class\n",
    "import pandas as pd\n",
    "from kats.consts import TimeSeriesData\n",
    "from kats.tsfeatures.tsfeatures import TsFeatures"
   ],
   "metadata": {
    "collapsed": false
   }
  },
  {
   "cell_type": "code",
   "execution_count": 1,
   "outputs": [],
   "source": [
    "# take `air_passengers` data as an example\n",
    "air_passengers_df = pd.read_csv(\n",
    "    \"air_passengers.csv\",\n",
    "    header=0,\n",
    "    names=[\"time\", \"passengers\"],\n",
    ")\n",
    "\n",
    "# convert to TimeSeriesData object\n",
    "air_passengers_ts = TimeSeriesData(air_passengers_df)\n",
    "\n",
    "# calculate the TsFeatures\n",
    "features = TsFeatures().transform(air_passengers_ts)"
   ],
   "metadata": {
    "collapsed": false
   }
  },
  {
   "cell_type": "code",
   "execution_count": 2,
   "outputs": [
    {
     "data": {
      "text/plain": "          time  passengers\n0   1949-01-01         112\n1   1949-02-01         118\n2   1949-03-01         132\n3   1949-04-01         129\n4   1949-05-01         121\n..         ...         ...\n139 1960-08-01         606\n140 1960-09-01         508\n141 1960-10-01         461\n142 1960-11-01         390\n143 1960-12-01         432\n\n[144 rows x 2 columns]",
      "text/html": "<div>\n<style scoped>\n    .dataframe tbody tr th:only-of-type {\n        vertical-align: middle;\n    }\n\n    .dataframe tbody tr th {\n        vertical-align: top;\n    }\n\n    .dataframe thead th {\n        text-align: right;\n    }\n</style>\n<table border=\"1\" class=\"dataframe\">\n  <thead>\n    <tr style=\"text-align: right;\">\n      <th></th>\n      <th>time</th>\n      <th>passengers</th>\n    </tr>\n  </thead>\n  <tbody>\n    <tr>\n      <th>0</th>\n      <td>1949-01-01</td>\n      <td>112</td>\n    </tr>\n    <tr>\n      <th>1</th>\n      <td>1949-02-01</td>\n      <td>118</td>\n    </tr>\n    <tr>\n      <th>2</th>\n      <td>1949-03-01</td>\n      <td>132</td>\n    </tr>\n    <tr>\n      <th>3</th>\n      <td>1949-04-01</td>\n      <td>129</td>\n    </tr>\n    <tr>\n      <th>4</th>\n      <td>1949-05-01</td>\n      <td>121</td>\n    </tr>\n    <tr>\n      <th>...</th>\n      <td>...</td>\n      <td>...</td>\n    </tr>\n    <tr>\n      <th>139</th>\n      <td>1960-08-01</td>\n      <td>606</td>\n    </tr>\n    <tr>\n      <th>140</th>\n      <td>1960-09-01</td>\n      <td>508</td>\n    </tr>\n    <tr>\n      <th>141</th>\n      <td>1960-10-01</td>\n      <td>461</td>\n    </tr>\n    <tr>\n      <th>142</th>\n      <td>1960-11-01</td>\n      <td>390</td>\n    </tr>\n    <tr>\n      <th>143</th>\n      <td>1960-12-01</td>\n      <td>432</td>\n    </tr>\n  </tbody>\n</table>\n<p>144 rows × 2 columns</p>\n</div>"
     },
     "execution_count": 2,
     "metadata": {},
     "output_type": "execute_result"
    }
   ],
   "source": [
    "air_passengers_ts"
   ],
   "metadata": {
    "collapsed": false
   }
  },
  {
   "cell_type": "code",
   "execution_count": 3,
   "outputs": [
    {
     "data": {
      "text/plain": "{'length': 144,\n 'mean': 280.2986111111111,\n 'var': 14291.97333140432,\n 'entropy': 0.4287365561752448,\n 'lumpiness': 3041164.5629058965,\n 'stability': 12303.627266589507,\n 'flat_spots': 2,\n 'hurst': -0.08023291030513457,\n 'std1st_der': 27.206287853461966,\n 'crossing_points': 7,\n 'binarize_mean': 0.4444444444444444,\n 'unitroot_kpss': 0.12847508180149078,\n 'heterogeneity': 126.06450625819339,\n 'histogram_mode': 155.8,\n 'linearity': 0.853638165603188,\n 'trend_strength': 0.9383301875692747,\n 'seasonality_strength': 0.3299338017939569,\n 'spikiness': 111.69732482853489,\n 'peak': 6,\n 'trough': 3,\n 'level_shift_idx': 118,\n 'level_shift_size': 15.599999999999966,\n 'y_acf1': 0.9480473407524915,\n 'y_acf5': 3.392072131604336,\n 'diff1y_acf1': 0.30285525815216935,\n 'diff1y_acf5': 0.2594591065999471,\n 'diff2y_acf1': -0.19100586757092733,\n 'diff2y_acf5': 0.13420736423784568,\n 'y_pacf5': 1.003288249401529,\n 'diff1y_pacf5': 0.2194123478008142,\n 'diff2y_pacf5': 0.2610103428699484,\n 'seas_acf1': 0.6629043863684492,\n 'seas_pacf1': 0.15616955255589093,\n 'firstmin_ac': 8,\n 'firstzero_ac': 52,\n 'holt_alpha': 0.995,\n 'holt_beta': 0.0001,\n 'hw_alpha': 0.9999999850988388,\n 'hw_beta': 4.392391307552844e-15,\n 'hw_gamma': 1.3205947301007158e-08}"
     },
     "execution_count": 3,
     "metadata": {},
     "output_type": "execute_result"
    }
   ],
   "source": [
    "features"
   ],
   "metadata": {
    "collapsed": false
   }
  },
  {
   "cell_type": "code",
   "execution_count": null,
   "outputs": [],
   "source": [],
   "metadata": {
    "collapsed": false
   }
  }
 ],
 "metadata": {
  "kernelspec": {
   "display_name": "Python 3",
   "language": "python",
   "name": "python3"
  },
  "language_info": {
   "codemirror_mode": {
    "name": "ipython",
    "version": 2
   },
   "file_extension": ".py",
   "mimetype": "text/x-python",
   "name": "python",
   "nbconvert_exporter": "python",
   "pygments_lexer": "ipython2",
   "version": "2.7.6"
  }
 },
 "nbformat": 4,
 "nbformat_minor": 0
}
