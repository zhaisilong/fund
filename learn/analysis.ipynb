{
 "cells": [
  {
   "cell_type": "code",
   "execution_count": 53,
   "metadata": {
    "collapsed": true
   },
   "outputs": [],
   "source": [
    "import pandas as pd\n",
    "from z.score import Metrics\n",
    "import numpy as np"
   ]
  },
  {
   "cell_type": "code",
   "execution_count": 54,
   "outputs": [],
   "source": [
    "CSV = 'test.csv'"
   ],
   "metadata": {
    "collapsed": false
   }
  },
  {
   "cell_type": "code",
   "execution_count": 55,
   "outputs": [
    {
     "name": "stdout",
     "output_type": "stream",
     "text": [
      "date     datetime64[ns]\n",
      "value           float64\n",
      "dtype: object\n"
     ]
    }
   ],
   "source": [
    "df = pd.read_csv(CSV, index_col=0)\n",
    "# 将 object 类的 date 转化为 datetime\n",
    "df['date'] = pd.to_datetime(df['date'])\n",
    "print(df.dtypes)"
   ],
   "metadata": {
    "collapsed": false
   }
  },
  {
   "cell_type": "code",
   "execution_count": 56,
   "outputs": [],
   "source": [
    "\"\"\"计算逐天差\"\"\"\n",
    "df['delta'] = df.value - df.value.shift(periods=1, fill_value=1.)"
   ],
   "metadata": {
    "collapsed": false
   }
  },
  {
   "cell_type": "code",
   "execution_count": 57,
   "outputs": [
    {
     "name": "stdout",
     "output_type": "stream",
     "text": [
      "星期一到星期五的累计涨幅\n",
      "1 0.48579999999999934\n",
      "2 0.03560000000000185\n",
      "3 0.23089999999999833\n",
      "4 -0.01579999999999937\n",
      "5 -0.17120000000000024\n",
      "月的的累计涨幅\n",
      "1 -0.07930000000000015\n",
      "2 -0.050000000000000044\n",
      "3 -0.3535999999999999\n",
      "4 0.16780000000000017\n",
      "5 0.21860000000000013\n",
      "6 0.6396999999999999\n",
      "7 0.1427999999999996\n",
      "8 -0.2991999999999997\n",
      "9 -0.19240000000000035\n",
      "10 0.16220000000000012\n",
      "11 0.08060000000000023\n",
      "12 0.12809999999999988\n",
      "年的累计涨幅\n",
      "2019 0.02760000000000007\n",
      "2020 0.8808\n",
      "2021 0.3084999999999998\n",
      "2022 -0.6516\n"
     ]
    }
   ],
   "source": [
    "df['week'] = df['date'].dt.dayofweek + 1\n",
    "df['year'] = df['date'].dt.year\n",
    "df['month'] = df['date'].dt.month\n",
    "\n",
    "week_coeff = []\n",
    "month_coeff = []\n",
    "\n",
    "print('星期一到星期五的累计涨幅')\n",
    "for week, group in df.groupby('week'):\n",
    "    print(week, group['delta'].sum())\n",
    "    week_coeff.append(group['delta'].sum())\n",
    "print('月的的累计涨幅')\n",
    "for year, group in df.groupby('month'):\n",
    "    print(year, group['delta'].sum())\n",
    "    month_coeff.append(group['delta'].sum())\n",
    "print('年的累计涨幅')\n",
    "for year, group in df.groupby('year'):\n",
    "    print(year, group['delta'].sum())\n",
    "    month_coeff.append(group['delta'].sum())\n",
    "# norm\n",
    "norm_month_coeff = Metrics.norm(np.array(month_coeff)).tolist()\n",
    "norm_week_coeff = Metrics.norm(np.array(week_coeff)).tolist()"
   ],
   "metadata": {
    "collapsed": false
   }
  },
  {
   "cell_type": "code",
   "execution_count": 58,
   "outputs": [
    {
     "data": {
      "text/plain": "          date   value   delta  week  year  month\n0   2019-11-20  1.0000  0.0000     3  2019     11\n1   2019-11-22  1.0000  0.0000     5  2019     11\n2   2019-11-29  0.9997 -0.0003     5  2019     11\n3   2019-12-06  1.0043  0.0046     5  2019     12\n4   2019-12-13  1.0117  0.0074     5  2019     12\n..         ...     ...     ...   ...   ...    ...\n664 2022-09-16  1.5899 -0.0403     5  2022      9\n665 2022-09-19  1.5796 -0.0103     1  2022      9\n666 2022-09-20  1.5964  0.0168     2  2022      9\n667 2022-09-21  1.5741 -0.0223     3  2022      9\n668 2022-09-22  1.5653 -0.0088     4  2022      9\n\n[669 rows x 6 columns]",
      "text/html": "<div>\n<style scoped>\n    .dataframe tbody tr th:only-of-type {\n        vertical-align: middle;\n    }\n\n    .dataframe tbody tr th {\n        vertical-align: top;\n    }\n\n    .dataframe thead th {\n        text-align: right;\n    }\n</style>\n<table border=\"1\" class=\"dataframe\">\n  <thead>\n    <tr style=\"text-align: right;\">\n      <th></th>\n      <th>date</th>\n      <th>value</th>\n      <th>delta</th>\n      <th>week</th>\n      <th>year</th>\n      <th>month</th>\n    </tr>\n  </thead>\n  <tbody>\n    <tr>\n      <th>0</th>\n      <td>2019-11-20</td>\n      <td>1.0000</td>\n      <td>0.0000</td>\n      <td>3</td>\n      <td>2019</td>\n      <td>11</td>\n    </tr>\n    <tr>\n      <th>1</th>\n      <td>2019-11-22</td>\n      <td>1.0000</td>\n      <td>0.0000</td>\n      <td>5</td>\n      <td>2019</td>\n      <td>11</td>\n    </tr>\n    <tr>\n      <th>2</th>\n      <td>2019-11-29</td>\n      <td>0.9997</td>\n      <td>-0.0003</td>\n      <td>5</td>\n      <td>2019</td>\n      <td>11</td>\n    </tr>\n    <tr>\n      <th>3</th>\n      <td>2019-12-06</td>\n      <td>1.0043</td>\n      <td>0.0046</td>\n      <td>5</td>\n      <td>2019</td>\n      <td>12</td>\n    </tr>\n    <tr>\n      <th>4</th>\n      <td>2019-12-13</td>\n      <td>1.0117</td>\n      <td>0.0074</td>\n      <td>5</td>\n      <td>2019</td>\n      <td>12</td>\n    </tr>\n    <tr>\n      <th>...</th>\n      <td>...</td>\n      <td>...</td>\n      <td>...</td>\n      <td>...</td>\n      <td>...</td>\n      <td>...</td>\n    </tr>\n    <tr>\n      <th>664</th>\n      <td>2022-09-16</td>\n      <td>1.5899</td>\n      <td>-0.0403</td>\n      <td>5</td>\n      <td>2022</td>\n      <td>9</td>\n    </tr>\n    <tr>\n      <th>665</th>\n      <td>2022-09-19</td>\n      <td>1.5796</td>\n      <td>-0.0103</td>\n      <td>1</td>\n      <td>2022</td>\n      <td>9</td>\n    </tr>\n    <tr>\n      <th>666</th>\n      <td>2022-09-20</td>\n      <td>1.5964</td>\n      <td>0.0168</td>\n      <td>2</td>\n      <td>2022</td>\n      <td>9</td>\n    </tr>\n    <tr>\n      <th>667</th>\n      <td>2022-09-21</td>\n      <td>1.5741</td>\n      <td>-0.0223</td>\n      <td>3</td>\n      <td>2022</td>\n      <td>9</td>\n    </tr>\n    <tr>\n      <th>668</th>\n      <td>2022-09-22</td>\n      <td>1.5653</td>\n      <td>-0.0088</td>\n      <td>4</td>\n      <td>2022</td>\n      <td>9</td>\n    </tr>\n  </tbody>\n</table>\n<p>669 rows × 6 columns</p>\n</div>"
     },
     "execution_count": 58,
     "metadata": {},
     "output_type": "execute_result"
    }
   ],
   "source": [
    "df"
   ],
   "metadata": {
    "collapsed": false
   }
  },
  {
   "cell_type": "code",
   "execution_count": 59,
   "outputs": [],
   "source": [
    "\"\"\"中位线计算\"\"\"\n",
    "df_3_month = df[-90:]\n",
    "df_year = df[-365:]\n",
    "df_all = df"
   ],
   "metadata": {
    "collapsed": false
   }
  },
  {
   "cell_type": "code",
   "execution_count": 60,
   "outputs": [],
   "source": [
    "quantile_3_month = df_3_month.value.quantile([0.25, 0.5, 0.75])\n",
    "quantile_year = df_year.value.quantile([0.25, 0.5, 0.75])\n",
    "quantile_all = df_all.value.quantile([0.25, 0.5, 0.75])"
   ],
   "metadata": {
    "collapsed": false
   }
  },
  {
   "cell_type": "code",
   "execution_count": 61,
   "outputs": [],
   "source": [
    "quantile = [a*0.3 + b*0.5 + c*0.2 for a,b,c in zip(quantile_3_month, quantile_year, quantile_all)]"
   ],
   "metadata": {
    "collapsed": false
   }
  },
  {
   "cell_type": "code",
   "execution_count": 62,
   "outputs": [
    {
     "data": {
      "text/plain": "[1.7332524999999999, 1.87586, 2.0768775]"
     },
     "execution_count": 62,
     "metadata": {},
     "output_type": "execute_result"
    }
   ],
   "source": [
    "quantile"
   ],
   "metadata": {
    "collapsed": false
   }
  },
  {
   "cell_type": "code",
   "execution_count": 63,
   "outputs": [
    {
     "name": "stdout",
     "output_type": "stream",
     "text": [
      "True\n",
      "0.5183152460878496\n"
     ]
    }
   ],
   "source": [
    "from datetime import datetime\n",
    "\n",
    "\n",
    "def is_buy(value):\n",
    "    \"\"\"buy: True, sell: False\"\"\"\n",
    "    if value < quantile[0]:\n",
    "        return True\n",
    "    elif value < quantile[1]:\n",
    "        return False\n",
    "    elif value < quantile[2]:\n",
    "        return True\n",
    "    else:\n",
    "        return False\n",
    "\n",
    "\n",
    "print(is_buy(1.5653))\n",
    "def get_cycle(date: datetime):\n",
    "    return 0.3 * norm_month_coeff[date.month - 1] + 0.7 * norm_week_coeff[date.weekday()]\n",
    "print(get_cycle(datetime.strptime('2022-9-21', '%Y-%m-%d')))"
   ],
   "metadata": {
    "collapsed": false
   }
  },
  {
   "cell_type": "code",
   "execution_count": 64,
   "outputs": [
    {
     "data": {
      "text/plain": "900.3628206722615"
     },
     "execution_count": 64,
     "metadata": {},
     "output_type": "execute_result"
    }
   ],
   "source": [
    "today = datetime.strptime('2022-9-21', '%Y-%m-%d')\n",
    "cycle = get_cycle(today)\n",
    "# cycle 是定投系数\n",
    "# 定投考虑三者系数比"
   ],
   "metadata": {
    "collapsed": false
   }
  },
  {
   "cell_type": "code",
   "execution_count": null,
   "outputs": [],
   "source": [
    "\"\"\"卖出\"\"\"\n",
    "# 卖出考虑本金，本星期浮动，下行趋势中的小涨是下船的好时间\n",
    "# 卖出的比例为时间超过 7 天的 ~10%\n",
    "# 卖出时机\n",
    "principal = 3000."
   ],
   "metadata": {
    "collapsed": false
   }
  }
 ],
 "metadata": {
  "kernelspec": {
   "display_name": "Python 3",
   "language": "python",
   "name": "python3"
  },
  "language_info": {
   "codemirror_mode": {
    "name": "ipython",
    "version": 2
   },
   "file_extension": ".py",
   "mimetype": "text/x-python",
   "name": "python",
   "nbconvert_exporter": "python",
   "pygments_lexer": "ipython2",
   "version": "2.7.6"
  }
 },
 "nbformat": 4,
 "nbformat_minor": 0
}
